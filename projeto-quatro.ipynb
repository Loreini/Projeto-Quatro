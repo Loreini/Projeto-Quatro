{
 "cells": [
  {
   "cell_type": "code",
   "execution_count": 2,
   "id": "12d9b99a-c0a9-4214-a243-7e23fb0a2a0c",
   "metadata": {},
   "outputs": [
    {
     "data": {
      "text/plain": [
       "'1.5.3'"
      ]
     },
     "execution_count": 2,
     "metadata": {},
     "output_type": "execute_result"
    }
   ],
   "source": [
    "import pandas\n",
    "pandas.__version__"
   ]
  },
  {
   "cell_type": "code",
   "execution_count": null,
   "id": "edb613b6-7edd-42f8-be6f-647eafb76b2c",
   "metadata": {},
   "outputs": [],
   "source": [
    "---\n",
    "title: \"Projeto 04\"\n",
    "author: \"Loreini Kresko\"\n",
    "date: \"21 de junho de 2023\"\n",
    "lang: pt\n",
    "format: \n",
    "  html:\n",
    "    code-tools: true\n",
    "    code-fold: true\n",
    "    default-image-extension: png\n",
    "    page-layout: full\n",
    "jupyter: python3\n",
    "---"
   ]
  },
  {
   "cell_type": "code",
   "execution_count": 9,
   "id": "27381d57-93a7-43e0-a3df-2fdf898e8f93",
   "metadata": {},
   "outputs": [
    {
     "name": "stdout",
     "output_type": "stream",
     "text": [
      "Requirement already satisfied: pandas in c:\\users\\loreine\\anaconda3\\lib\\site-packages (1.5.3)\n",
      "Requirement already satisfied: numpy>=1.21.0 in c:\\users\\loreine\\anaconda3\\lib\\site-packages (from pandas) (1.23.5)\n",
      "Requirement already satisfied: pytz>=2020.1 in c:\\users\\loreine\\anaconda3\\lib\\site-packages (from pandas) (2022.7)\n",
      "Requirement already satisfied: python-dateutil>=2.8.1 in c:\\users\\loreine\\anaconda3\\lib\\site-packages (from pandas) (2.8.2)\n",
      "Requirement already satisfied: six>=1.5 in c:\\users\\loreine\\anaconda3\\lib\\site-packages (from python-dateutil>=2.8.1->pandas) (1.16.0)\n"
     ]
    }
   ],
   "source": [
    "!pip install pandas"
   ]
  },
  {
   "cell_type": "markdown",
   "id": "2705ac44-ba20-461f-b05e-45b58b2fae35",
   "metadata": {},
   "source": [
    "# Votação do PROS - deputado estadual 2014 e 2018"
   ]
  },
  {
   "cell_type": "code",
   "execution_count": 10,
   "id": "5da59d73-6628-4bc6-b1d6-332575d142b3",
   "metadata": {},
   "outputs": [
    {
     "data": {
      "text/html": [
       "<div>\n",
       "<style scoped>\n",
       "    .dataframe tbody tr th:only-of-type {\n",
       "        vertical-align: middle;\n",
       "    }\n",
       "\n",
       "    .dataframe tbody tr th {\n",
       "        vertical-align: top;\n",
       "    }\n",
       "\n",
       "    .dataframe thead th {\n",
       "        text-align: right;\n",
       "    }\n",
       "</style>\n",
       "<table border=\"1\" class=\"dataframe\">\n",
       "  <thead>\n",
       "    <tr style=\"text-align: right;\">\n",
       "      <th></th>\n",
       "      <th>Sigla</th>\n",
       "      <th>Código</th>\n",
       "      <th>Estado</th>\n",
       "      <th>Ano2014</th>\n",
       "      <th>Ano2018</th>\n",
       "    </tr>\n",
       "  </thead>\n",
       "  <tbody>\n",
       "    <tr>\n",
       "      <th>0</th>\n",
       "      <td>AC</td>\n",
       "      <td>12</td>\n",
       "      <td>Acre</td>\n",
       "      <td>6414</td>\n",
       "      <td>12917</td>\n",
       "    </tr>\n",
       "    <tr>\n",
       "      <th>1</th>\n",
       "      <td>AL</td>\n",
       "      <td>27</td>\n",
       "      <td>Alagoas</td>\n",
       "      <td>80189</td>\n",
       "      <td>30692</td>\n",
       "    </tr>\n",
       "    <tr>\n",
       "      <th>2</th>\n",
       "      <td>AM</td>\n",
       "      <td>13</td>\n",
       "      <td>Amazonas</td>\n",
       "      <td>74424</td>\n",
       "      <td>7599</td>\n",
       "    </tr>\n",
       "    <tr>\n",
       "      <th>3</th>\n",
       "      <td>AP</td>\n",
       "      <td>16</td>\n",
       "      <td>Amapá</td>\n",
       "      <td>19737</td>\n",
       "      <td>8041</td>\n",
       "    </tr>\n",
       "    <tr>\n",
       "      <th>4</th>\n",
       "      <td>BA</td>\n",
       "      <td>29</td>\n",
       "      <td>Bahia</td>\n",
       "      <td>50724</td>\n",
       "      <td>4796</td>\n",
       "    </tr>\n",
       "    <tr>\n",
       "      <th>5</th>\n",
       "      <td>CE</td>\n",
       "      <td>23</td>\n",
       "      <td>Ceará</td>\n",
       "      <td>919367</td>\n",
       "      <td>206086</td>\n",
       "    </tr>\n",
       "    <tr>\n",
       "      <th>6</th>\n",
       "      <td>DF</td>\n",
       "      <td>53</td>\n",
       "      <td>Distrito Federal</td>\n",
       "      <td>20549</td>\n",
       "      <td>86917</td>\n",
       "    </tr>\n",
       "    <tr>\n",
       "      <th>7</th>\n",
       "      <td>ES</td>\n",
       "      <td>32</td>\n",
       "      <td>Espírito Santo</td>\n",
       "      <td>19019</td>\n",
       "      <td>31716</td>\n",
       "    </tr>\n",
       "    <tr>\n",
       "      <th>8</th>\n",
       "      <td>GO</td>\n",
       "      <td>52</td>\n",
       "      <td>Goiás</td>\n",
       "      <td>55845</td>\n",
       "      <td>191721</td>\n",
       "    </tr>\n",
       "    <tr>\n",
       "      <th>9</th>\n",
       "      <td>MA</td>\n",
       "      <td>21</td>\n",
       "      <td>Maranhão</td>\n",
       "      <td>13573</td>\n",
       "      <td>32523</td>\n",
       "    </tr>\n",
       "    <tr>\n",
       "      <th>10</th>\n",
       "      <td>MG</td>\n",
       "      <td>31</td>\n",
       "      <td>Minas Gerais</td>\n",
       "      <td>151611</td>\n",
       "      <td>189560</td>\n",
       "    </tr>\n",
       "    <tr>\n",
       "      <th>11</th>\n",
       "      <td>MS</td>\n",
       "      <td>50</td>\n",
       "      <td>Mato Grosso do Sul</td>\n",
       "      <td>10330</td>\n",
       "      <td>2373</td>\n",
       "    </tr>\n",
       "    <tr>\n",
       "      <th>12</th>\n",
       "      <td>MT</td>\n",
       "      <td>51</td>\n",
       "      <td>Mato Grosso</td>\n",
       "      <td>31610</td>\n",
       "      <td>35502</td>\n",
       "    </tr>\n",
       "    <tr>\n",
       "      <th>13</th>\n",
       "      <td>PA</td>\n",
       "      <td>15</td>\n",
       "      <td>Pará</td>\n",
       "      <td>112708</td>\n",
       "      <td>30554</td>\n",
       "    </tr>\n",
       "    <tr>\n",
       "      <th>14</th>\n",
       "      <td>PB</td>\n",
       "      <td>25</td>\n",
       "      <td>Paraíba</td>\n",
       "      <td>25807</td>\n",
       "      <td>8248</td>\n",
       "    </tr>\n",
       "    <tr>\n",
       "      <th>15</th>\n",
       "      <td>PE</td>\n",
       "      <td>26</td>\n",
       "      <td>Pernambuco</td>\n",
       "      <td>53985</td>\n",
       "      <td>66171</td>\n",
       "    </tr>\n",
       "    <tr>\n",
       "      <th>16</th>\n",
       "      <td>PI</td>\n",
       "      <td>22</td>\n",
       "      <td>Piauí</td>\n",
       "      <td>35144</td>\n",
       "      <td>15761</td>\n",
       "    </tr>\n",
       "    <tr>\n",
       "      <th>17</th>\n",
       "      <td>PR</td>\n",
       "      <td>41</td>\n",
       "      <td>Paraná</td>\n",
       "      <td>22518</td>\n",
       "      <td>163214</td>\n",
       "    </tr>\n",
       "    <tr>\n",
       "      <th>18</th>\n",
       "      <td>RJ</td>\n",
       "      <td>33</td>\n",
       "      <td>Rio de Janeiro</td>\n",
       "      <td>106682</td>\n",
       "      <td>123819</td>\n",
       "    </tr>\n",
       "    <tr>\n",
       "      <th>19</th>\n",
       "      <td>RN</td>\n",
       "      <td>24</td>\n",
       "      <td>Rio Grande do Norte</td>\n",
       "      <td>266738</td>\n",
       "      <td>33550</td>\n",
       "    </tr>\n",
       "    <tr>\n",
       "      <th>20</th>\n",
       "      <td>RO</td>\n",
       "      <td>11</td>\n",
       "      <td>Rondônia</td>\n",
       "      <td>2122</td>\n",
       "      <td>14430</td>\n",
       "    </tr>\n",
       "    <tr>\n",
       "      <th>21</th>\n",
       "      <td>RR</td>\n",
       "      <td>14</td>\n",
       "      <td>Roraima</td>\n",
       "      <td>8382</td>\n",
       "      <td>2847</td>\n",
       "    </tr>\n",
       "    <tr>\n",
       "      <th>22</th>\n",
       "      <td>RS</td>\n",
       "      <td>43</td>\n",
       "      <td>Rio Grande do Sul</td>\n",
       "      <td>16882</td>\n",
       "      <td>45751</td>\n",
       "    </tr>\n",
       "    <tr>\n",
       "      <th>23</th>\n",
       "      <td>SC</td>\n",
       "      <td>42</td>\n",
       "      <td>Santa Catarina</td>\n",
       "      <td>17695</td>\n",
       "      <td>3278</td>\n",
       "    </tr>\n",
       "    <tr>\n",
       "      <th>24</th>\n",
       "      <td>SE</td>\n",
       "      <td>28</td>\n",
       "      <td>Sergipe</td>\n",
       "      <td>18110</td>\n",
       "      <td>553</td>\n",
       "    </tr>\n",
       "    <tr>\n",
       "      <th>25</th>\n",
       "      <td>SP</td>\n",
       "      <td>35</td>\n",
       "      <td>São Paulo</td>\n",
       "      <td>120661</td>\n",
       "      <td>309886</td>\n",
       "    </tr>\n",
       "    <tr>\n",
       "      <th>26</th>\n",
       "      <td>TO</td>\n",
       "      <td>17</td>\n",
       "      <td>Tocantins</td>\n",
       "      <td>32653</td>\n",
       "      <td>29149</td>\n",
       "    </tr>\n",
       "  </tbody>\n",
       "</table>\n",
       "</div>"
      ],
      "text/plain": [
       "   Sigla  Código               Estado  Ano2014  Ano2018\n",
       "0     AC      12                 Acre     6414    12917\n",
       "1     AL      27              Alagoas    80189    30692\n",
       "2     AM      13             Amazonas    74424     7599\n",
       "3     AP      16                Amapá    19737     8041\n",
       "4     BA      29                Bahia    50724     4796\n",
       "5     CE      23                Ceará   919367   206086\n",
       "6     DF      53     Distrito Federal    20549    86917\n",
       "7     ES      32       Espírito Santo    19019    31716\n",
       "8     GO      52                Goiás    55845   191721\n",
       "9     MA      21             Maranhão    13573    32523\n",
       "10    MG      31         Minas Gerais   151611   189560\n",
       "11    MS      50   Mato Grosso do Sul    10330     2373\n",
       "12    MT      51          Mato Grosso    31610    35502\n",
       "13    PA      15                 Pará   112708    30554\n",
       "14    PB      25              Paraíba    25807     8248\n",
       "15    PE      26           Pernambuco    53985    66171\n",
       "16    PI      22                Piauí    35144    15761\n",
       "17    PR      41               Paraná    22518   163214\n",
       "18    RJ      33       Rio de Janeiro   106682   123819\n",
       "19    RN      24  Rio Grande do Norte   266738    33550\n",
       "20    RO      11             Rondônia     2122    14430\n",
       "21    RR      14              Roraima     8382     2847\n",
       "22    RS      43    Rio Grande do Sul    16882    45751\n",
       "23    SC      42       Santa Catarina    17695     3278\n",
       "24    SE      28              Sergipe    18110      553\n",
       "25    SP      35            São Paulo   120661   309886\n",
       "26    TO      17            Tocantins    32653    29149"
      ]
     },
     "execution_count": 10,
     "metadata": {},
     "output_type": "execute_result"
    }
   ],
   "source": [
    "import pandas as pd\n",
    "\n",
    "arquivo = \"Votação deputado estadual.csv\"\n",
    "df = pd.read_csv(arquivo, sep=';') \n",
    "df.head(500)"
   ]
  },
  {
   "cell_type": "markdown",
   "id": "48b80787-4612-4005-aaf9-f02e3b502666",
   "metadata": {},
   "source": [
    "Total de votos arrecadado a cada ano."
   ]
  },
  {
   "cell_type": "code",
   "execution_count": 2,
   "id": "c8580472-6ddf-4610-a267-f42478f7e76d",
   "metadata": {},
   "outputs": [
    {
     "name": "stdout",
     "output_type": "stream",
     "text": [
      "A soma do ano de 2014 é; 2293479\n",
      "A soma é de 2018 é; 1687654\n"
     ]
    }
   ],
   "source": [
    "soma = df['Ano2014'].sum()\n",
    "print(\"A soma do ano de 2014 é;\",soma)\n",
    "\n",
    "soma = df['Ano2018'].sum()\n",
    "print(\"A soma é de 2018 é;\",soma)"
   ]
  },
  {
   "cell_type": "code",
   "execution_count": null,
   "id": "330338c8-689a-4ed8-80d7-9189bb875712",
   "metadata": {},
   "outputs": [],
   "source": [
    "Total de votos arrecadados no Ano2014 e no Ano2015"
   ]
  },
  {
   "cell_type": "code",
   "execution_count": 9,
   "id": "ccf26825-2f6a-4b33-b008-17b50095896d",
   "metadata": {},
   "outputs": [
    {
     "data": {
      "text/plain": [
       "3981133"
      ]
     },
     "execution_count": 9,
     "metadata": {},
     "output_type": "execute_result"
    }
   ],
   "source": [
    "soma = lambda Ano2014,Ano2018: Ano2014+Ano2018\n",
    "soma(2293479,1687654)"
   ]
  },
  {
   "cell_type": "code",
   "execution_count": 82,
   "id": "7ea5af57-5691-44d1-b815-9733c25483a1",
   "metadata": {},
   "outputs": [
    {
     "name": "stdout",
     "output_type": "stream",
     "text": [
      "Número total de votos no Paraná em 2014 e 2018 é: 185732\n"
     ]
    }
   ],
   "source": [
    "Paraná2014 = 22518\n",
    "Paraná2018 = 163214\n",
    "\n",
    "soma = somar_numeros(Paraná2014,Paraná2018)\n",
    "print (\"Número total de votos no Paraná em 2014 e 2018 é:\",soma)"
   ]
  },
  {
   "cell_type": "code",
   "execution_count": 27,
   "id": "c77d3d0f-a936-4b42-bcdd-de40ab33bfaa",
   "metadata": {},
   "outputs": [
    {
     "name": "stdout",
     "output_type": "stream",
     "text": [
      "   Sigla  Código             Estado  Ano 2014  Ano 2018\n",
      "22    RS      43  Rio Grande do Sul     16882     45751\n",
      "23    SC      42     Santa Catarina     17695      3278\n",
      "24    SE      28            Sergipe     18110       553\n",
      "25    SP      35          São Paulo    120661    309886\n",
      "26    TO      17          Tocantins     32653     29149\n"
     ]
    }
   ],
   "source": [
    "print(df.tail()) "
   ]
  },
  {
   "cell_type": "code",
   "execution_count": 105,
   "id": "389505f1-35af-4f83-b326-444e0b4e80b4",
   "metadata": {},
   "outputs": [
    {
     "name": "stdout",
     "output_type": "stream",
     "text": [
      "Rio Grande do Sul\n",
      "Santa Catarina\n",
      "Sergipe\n",
      "São Paulo\n",
      "Tocantins\n"
     ]
    }
   ],
   "source": [
    "Últimos_cinco_Estados_do_arquivo = [\"Rio Grande do Sul\", \"Santa Catarina\", \"Sergipe\", \"São Paulo\", \"Tocantins\"]\n",
    "for i in Lista:\n",
    "    print(i)"
   ]
  },
  {
   "cell_type": "code",
   "execution_count": null,
   "id": "2558ba80-c8ad-408b-80fd-0c3e88e36b53",
   "metadata": {},
   "outputs": [],
   "source": [
    "Ano2014 = 2293479\n",
    "Ano2018 = 1687654"
   ]
  },
  {
   "cell_type": "code",
   "execution_count": 4,
   "id": "73c01f9e-dfd8-4c98-bece-6b6e20f26801",
   "metadata": {},
   "outputs": [
    {
     "name": "stdout",
     "output_type": "stream",
     "text": [
      "Ano2014 teve mais votos\n"
     ]
    }
   ],
   "source": [
    "if (\"Ano2014\" < \"Ano2018\"):\n",
    "    print(\"Ano2014 teve mais votos\")\n",
    "else:\n",
    "    print(\"Ano2018 teve mais votos\")"
   ]
  },
  {
   "cell_type": "code",
   "execution_count": 4,
   "id": "da7ae9eb-39c2-4b46-b7b3-eab6bbbe30e7",
   "metadata": {},
   "outputs": [],
   "source": [
    "import matplotlib.pyplot as plt"
   ]
  },
  {
   "cell_type": "code",
   "execution_count": 6,
   "id": "d9817fcc-a74a-4772-b95b-8863a9e185df",
   "metadata": {},
   "outputs": [
    {
     "ename": "NameError",
     "evalue": "name 'plt' is not defined",
     "output_type": "error",
     "traceback": [
      "\u001b[1;31m---------------------------------------------------------------------------\u001b[0m",
      "\u001b[1;31mNameError\u001b[0m                                 Traceback (most recent call last)",
      "Cell \u001b[1;32mIn[6], line 4\u001b[0m\n\u001b[0;32m      1\u001b[0m Parana \u001b[38;5;241m=\u001b[39m [\u001b[38;5;241m22518\u001b[39m,\u001b[38;5;241m163214\u001b[39m]\n\u001b[0;32m      2\u001b[0m Sergipe \u001b[38;5;241m=\u001b[39m [\u001b[38;5;241m18110\u001b[39m,\u001b[38;5;241m553\u001b[39m]\n\u001b[1;32m----> 4\u001b[0m \u001b[43mplt\u001b[49m\u001b[38;5;241m.\u001b[39mplot(Parana, Sergipe)\n\u001b[0;32m      5\u001b[0m plt\u001b[38;5;241m.\u001b[39mshow()\n",
      "\u001b[1;31mNameError\u001b[0m: name 'plt' is not defined"
     ]
    }
   ],
   "source": [
    "Parana = [22518,163214]\n",
    "Sergipe = [18110,553]\n",
    "\n",
    "plt.plot(Parana, Sergipe)\n",
    "plt.show()\n"
   ]
  },
  {
   "cell_type": "code",
   "execution_count": 1,
   "id": "a8b021f7-d008-41f9-9968-568b4cf3fff7",
   "metadata": {},
   "outputs": [
    {
     "ename": "NameError",
     "evalue": "name 'plt' is not defined",
     "output_type": "error",
     "traceback": [
      "\u001b[1;31m---------------------------------------------------------------------------\u001b[0m",
      "\u001b[1;31mNameError\u001b[0m                                 Traceback (most recent call last)",
      "Cell \u001b[1;32mIn[1], line 1\u001b[0m\n\u001b[1;32m----> 1\u001b[0m \u001b[43mplt\u001b[49m\u001b[38;5;241m.\u001b[39mbar(Parana,Sergipe)\n\u001b[0;32m      2\u001b[0m plt\u001b[38;5;241m.\u001b[39mshow()\n",
      "\u001b[1;31mNameError\u001b[0m: name 'plt' is not defined"
     ]
    }
   ],
   "source": [
    "plt.bar(Parana,Sergipe)\n",
    "plt.show()"
   ]
  },
  {
   "cell_type": "code",
   "execution_count": null,
   "id": "e64bf36b-88de-4da1-8b47-f863d5e844b0",
   "metadata": {},
   "outputs": [],
   "source": []
  }
 ],
 "metadata": {
  "kernelspec": {
   "display_name": "Python 3 (ipykernel)",
   "language": "python",
   "name": "python3"
  },
  "language_info": {
   "codemirror_mode": {
    "name": "ipython",
    "version": 3
   },
   "file_extension": ".py",
   "mimetype": "text/x-python",
   "name": "python",
   "nbconvert_exporter": "python",
   "pygments_lexer": "ipython3",
   "version": "3.10.9"
  }
 },
 "nbformat": 4,
 "nbformat_minor": 5
}
